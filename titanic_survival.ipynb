{
 "cells": [
  {
   "cell_type": "markdown",
   "metadata": {},
   "source": [
    "# Predicting Titanic Survival\n",
    "\n",
    "The RMS Titanic set sail on its maiden voyage in 1912, crossing the Atlantic from Southampton, England to New York City. The ship never completed the voyage, sinking to the bottom of the Atlantic Ocean after hitting an iceberg, bringing down 1,502 of 2,224 passengers onboard.\n",
    "\n",
    "In this project I will create a Logistic Regression model that predicts which passengers survived the sinking of the Titanic, based on features like age and class\n"
   ]
  },
  {
   "cell_type": "code",
   "execution_count": 1,
   "metadata": {},
   "outputs": [],
   "source": [
    "import pandas as pd\n",
    "import numpy as np\n",
    "import matplotlib.pyplot as plt\n",
    "from sklearn.linear_model import LogisticRegression\n",
    "from sklearn.model_selection import train_test_split\n",
    "from sklearn.preprocessing import StandardScaler"
   ]
  },
  {
   "cell_type": "markdown",
   "metadata": {},
   "source": [
    "### Loading the Data"
   ]
  },
  {
   "cell_type": "code",
   "execution_count": 2,
   "metadata": {
    "tags": []
   },
   "outputs": [
    {
     "output_type": "stream",
     "name": "stdout",
     "text": "PassengerId  Survived  Pclass  \\\n0              1         0       3   \n1              2         1       1   \n2              3         1       3   \n3              4         1       1   \n4              5         0       3   \n..           ...       ...     ...   \n886          887         0       2   \n887          888         1       1   \n888          889         0       3   \n889          890         1       1   \n890          891         0       3   \n\n                                                  Name     Sex   Age  SibSp  \\\n0                              Braund, Mr. Owen Harris    male  22.0      1   \n1    Cumings, Mrs. John Bradley (Florence Briggs Th...  female  38.0      1   \n2                               Heikkinen, Miss. Laina  female  26.0      0   \n3         Futrelle, Mrs. Jacques Heath (Lily May Peel)  female  35.0      1   \n4                             Allen, Mr. William Henry    male  35.0      0   \n..                                                 ...     ...   ...    ...   \n886                              Montvila, Rev. Juozas    male  27.0      0   \n887                       Graham, Miss. Margaret Edith  female  19.0      0   \n888           Johnston, Miss. Catherine Helen \"Carrie\"  female   NaN      1   \n889                              Behr, Mr. Karl Howell    male  26.0      0   \n890                                Dooley, Mr. Patrick    male  32.0      0   \n\n     Parch            Ticket     Fare Cabin Embarked  \n0        0         A/5 21171   7.2500   NaN        S  \n1        0          PC 17599  71.2833   C85        C  \n2        0  STON/O2. 3101282   7.9250   NaN        S  \n3        0            113803  53.1000  C123        S  \n4        0            373450   8.0500   NaN        S  \n..     ...               ...      ...   ...      ...  \n886      0            211536  13.0000   NaN        S  \n887      0            112053  30.0000   B42        S  \n888      2        W./C. 6607  23.4500   NaN        S  \n889      0            111369  30.0000  C148        C  \n890      0            370376   7.7500   NaN        Q  \n\n[891 rows x 12 columns]\n"
    }
   ],
   "source": [
    "passengers = pd.read_csv('passengers.csv')\n",
    "print(passengers)"
   ]
  },
  {
   "cell_type": "markdown",
   "metadata": {},
   "source": [
    "### Cleaning the Data"
   ]
  },
  {
   "cell_type": "code",
   "execution_count": 3,
   "metadata": {
    "tags": []
   },
   "outputs": [
    {
     "output_type": "stream",
     "name": "stdout",
     "text": "PassengerId  Survived  Pclass  \\\n0              1         0       3   \n1              2         1       1   \n2              3         1       3   \n3              4         1       1   \n4              5         0       3   \n..           ...       ...     ...   \n886          887         0       2   \n887          888         1       1   \n888          889         0       3   \n889          890         1       1   \n890          891         0       3   \n\n                                                  Name  Sex   Age  SibSp  \\\n0                              Braund, Mr. Owen Harris    0  22.0      1   \n1    Cumings, Mrs. John Bradley (Florence Briggs Th...    1  38.0      1   \n2                               Heikkinen, Miss. Laina    1  26.0      0   \n3         Futrelle, Mrs. Jacques Heath (Lily May Peel)    1  35.0      1   \n4                             Allen, Mr. William Henry    0  35.0      0   \n..                                                 ...  ...   ...    ...   \n886                              Montvila, Rev. Juozas    0  27.0      0   \n887                       Graham, Miss. Margaret Edith    1  19.0      0   \n888           Johnston, Miss. Catherine Helen \"Carrie\"    1   NaN      1   \n889                              Behr, Mr. Karl Howell    0  26.0      0   \n890                                Dooley, Mr. Patrick    0  32.0      0   \n\n     Parch            Ticket     Fare Cabin Embarked  \n0        0         A/5 21171   7.2500   NaN        S  \n1        0          PC 17599  71.2833   C85        C  \n2        0  STON/O2. 3101282   7.9250   NaN        S  \n3        0            113803  53.1000  C123        S  \n4        0            373450   8.0500   NaN        S  \n..     ...               ...      ...   ...      ...  \n886      0            211536  13.0000   NaN        S  \n887      0            112053  30.0000   B42        S  \n888      2        W./C. 6607  23.4500   NaN        S  \n889      0            111369  30.0000  C148        C  \n890      0            370376   7.7500   NaN        Q  \n\n[891 rows x 12 columns]\n"
    }
   ],
   "source": [
    "passengers['Sex'].replace({'male': 0, 'female':1}, inplace=True)\n",
    "print(passengers)"
   ]
  },
  {
   "cell_type": "code",
   "execution_count": 7,
   "metadata": {
    "tags": []
   },
   "outputs": [
    {
     "output_type": "stream",
     "name": "stdout",
     "text": "[22.         38.         26.         35.         35.         29.69911765\n 54.          2.         27.         14.          4.         58.\n 20.         39.         14.         55.          2.         29.69911765\n 31.         29.69911765 35.         34.         15.         28.\n  8.         38.         29.69911765 19.         29.69911765 29.69911765\n 40.         29.69911765 29.69911765 66.         28.         42.\n 29.69911765 21.         18.         14.         40.         27.\n 29.69911765  3.         19.         29.69911765 29.69911765 29.69911765\n 29.69911765 18.          7.         21.         49.         29.\n 65.         29.69911765 21.         28.5         5.         11.\n 22.         38.         45.          4.         29.69911765 29.69911765\n 29.         19.         17.         26.         32.         16.\n 21.         26.         32.         25.         29.69911765 29.69911765\n  0.83       30.         22.         29.         29.69911765 28.\n 17.         33.         16.         29.69911765 23.         24.\n 29.         20.         46.         26.         59.         29.69911765\n 71.         23.         34.         34.         28.         29.69911765\n 21.         33.         37.         28.         21.         29.69911765\n 38.         29.69911765 47.         14.5        22.         20.\n 17.         21.         70.5        29.         24.          2.\n 21.         29.69911765 32.5        32.5        54.         12.\n 29.69911765 24.         29.69911765 45.         33.         20.\n 47.         29.         25.         23.         19.         37.\n 16.         24.         29.69911765 22.         24.         19.\n 18.         19.         27.          9.         36.5        42.\n 51.         22.         55.5        40.5        29.69911765 51.\n 16.         30.         29.69911765 29.69911765 44.         40.\n 26.         17.          1.          9.         29.69911765 45.\n 29.69911765 28.         61.          4.          1.         21.\n 56.         18.         29.69911765 50.         30.         36.\n 29.69911765 29.69911765  9.          1.          4.         29.69911765\n 29.69911765 45.         40.         36.         32.         19.\n 19.          3.         44.         58.         29.69911765 42.\n 29.69911765 24.         28.         29.69911765 34.         45.5\n 18.          2.         32.         26.         16.         40.\n 24.         35.         22.         30.         29.69911765 31.\n 27.         42.         32.         30.         16.         27.\n 51.         29.69911765 38.         22.         19.         20.5\n 18.         29.69911765 35.         29.         59.          5.\n 24.         29.69911765 44.          8.         19.         33.\n 29.69911765 29.69911765 29.         22.         30.         44.\n 25.         24.         37.         54.         29.69911765 29.\n 62.         30.         41.         29.         29.69911765 30.\n 35.         50.         29.69911765  3.         52.         40.\n 29.69911765 36.         16.         25.         58.         35.\n 29.69911765 25.         41.         37.         29.69911765 63.\n 45.         29.69911765  7.         35.         65.         28.\n 16.         19.         29.69911765 33.         30.         22.\n 42.         22.         26.         19.         36.         24.\n 24.         29.69911765 23.5         2.         29.69911765 50.\n 29.69911765 29.69911765 19.         29.69911765 29.69911765  0.92\n 29.69911765 17.         30.         30.         24.         18.\n 26.         28.         43.         26.         24.         54.\n 31.         40.         22.         27.         30.         22.\n 29.69911765 36.         61.         36.         31.         16.\n 29.69911765 45.5        38.         16.         29.69911765 29.69911765\n 29.         41.         45.         45.          2.         24.\n 28.         25.         36.         24.         40.         29.69911765\n  3.         42.         23.         29.69911765 15.         25.\n 29.69911765 28.         22.         38.         29.69911765 29.69911765\n 40.         29.         45.         35.         29.69911765 30.\n 60.         29.69911765 29.69911765 24.         25.         18.\n 19.         22.          3.         29.69911765 22.         27.\n 20.         19.         42.          1.         32.         35.\n 29.69911765 18.          1.         36.         29.69911765 17.\n 36.         21.         28.         23.         24.         22.\n 31.         46.         23.         28.         39.         26.\n 21.         28.         20.         34.         51.          3.\n 21.         29.69911765 29.69911765 29.69911765 33.         29.69911765\n 44.         29.69911765 34.         18.         30.         10.\n 29.69911765 21.         29.         28.         18.         29.69911765\n 28.         19.         29.69911765 32.         28.         29.69911765\n 42.         17.         50.         14.         21.         24.\n 64.         31.         45.         20.         25.         28.\n 29.69911765  4.         13.         34.          5.         52.\n 36.         29.69911765 30.         49.         29.69911765 29.\n 65.         29.69911765 50.         29.69911765 48.         34.\n 47.         48.         29.69911765 38.         29.69911765 56.\n 29.69911765  0.75       29.69911765 38.         33.         23.\n 22.         29.69911765 34.         29.         22.          2.\n  9.         29.69911765 50.         63.         25.         29.69911765\n 35.         58.         30.          9.         29.69911765 21.\n 55.         71.         21.         29.69911765 54.         29.69911765\n 25.         24.         17.         21.         29.69911765 37.\n 16.         18.         33.         29.69911765 28.         26.\n 29.         29.69911765 36.         54.         24.         47.\n 34.         29.69911765 36.         32.         30.         22.\n 29.69911765 44.         29.69911765 40.5        50.         29.69911765\n 39.         23.          2.         29.69911765 17.         29.69911765\n 30.          7.         45.         30.         29.69911765 22.\n 36.          9.         11.         32.         50.         64.\n 19.         29.69911765 33.          8.         17.         27.\n 29.69911765 22.         22.         62.         48.         29.69911765\n 39.         36.         29.69911765 40.         28.         29.69911765\n 29.69911765 24.         19.         29.         29.69911765 32.\n 62.         53.         36.         29.69911765 16.         19.\n 34.         39.         29.69911765 32.         25.         39.\n 54.         36.         29.69911765 18.         47.         60.\n 22.         29.69911765 35.         52.         47.         29.69911765\n 37.         36.         29.69911765 49.         29.69911765 49.\n 24.         29.69911765 29.69911765 44.         35.         36.\n 30.         27.         22.         40.         39.         29.69911765\n 29.69911765 29.69911765 35.         24.         34.         26.\n  4.         26.         27.         42.         20.         21.\n 21.         61.         57.         21.         26.         29.69911765\n 80.         51.         32.         29.69911765  9.         28.\n 32.         31.         41.         29.69911765 20.         24.\n  2.         29.69911765  0.75       48.         19.         56.\n 29.69911765 23.         29.69911765 18.         21.         29.69911765\n 18.         24.         29.69911765 32.         23.         58.\n 50.         40.         47.         36.         20.         32.\n 25.         29.69911765 43.         29.69911765 40.         31.\n 70.         31.         29.69911765 18.         24.5        18.\n 43.         36.         29.69911765 27.         20.         14.\n 60.         25.         14.         19.         18.         15.\n 31.          4.         29.69911765 25.         60.         52.\n 44.         29.69911765 49.         42.         18.         35.\n 18.         25.         26.         39.         45.         42.\n 22.         29.69911765 24.         29.69911765 48.         29.\n 52.         19.         38.         27.         29.69911765 33.\n  6.         17.         34.         50.         27.         20.\n 30.         29.69911765 25.         25.         29.         11.\n 29.69911765 23.         23.         28.5        48.         35.\n 29.69911765 29.69911765 29.69911765 36.         21.         24.\n 31.         70.         16.         30.         19.         31.\n  4.          6.         33.         23.         48.          0.67\n 28.         18.         34.         33.         29.69911765 41.\n 20.         36.         16.         51.         29.69911765 30.5\n 29.69911765 32.         24.         48.         57.         29.69911765\n 54.         18.         29.69911765  5.         29.69911765 43.\n 13.         17.         29.         29.69911765 25.         25.\n 18.          8.          1.         46.         29.69911765 16.\n 29.69911765 29.69911765 25.         39.         49.         31.\n 30.         30.         34.         31.         11.          0.42\n 27.         31.         39.         18.         39.         33.\n 26.         39.         35.          6.         30.5        29.69911765\n 23.         31.         43.         10.         52.         27.\n 38.         27.          2.         29.69911765 29.69911765  1.\n 29.69911765 62.         15.          0.83       29.69911765 23.\n 18.         39.         21.         29.69911765 32.         29.69911765\n 20.         16.         30.         34.5        17.         42.\n 29.69911765 35.         28.         29.69911765  4.         74.\n  9.         16.         44.         18.         45.         51.\n 24.         29.69911765 41.         21.         48.         29.69911765\n 24.         42.         27.         31.         29.69911765  4.\n 26.         47.         33.         47.         28.         15.\n 20.         19.         29.69911765 56.         25.         33.\n 22.         28.         25.         39.         27.         19.\n 29.69911765 26.         32.        ]\n"
    }
   ],
   "source": [
    "passengers['Age'].fillna(value = passengers['Age'].mean(), inplace=True)\n",
    "print(passengers['Age'].values)"
   ]
  },
  {
   "cell_type": "code",
   "execution_count": 8,
   "metadata": {
    "tags": []
   },
   "outputs": [
    {
     "output_type": "stream",
     "name": "stdout",
     "text": "PassengerId  Survived  Pclass  \\\n0              1         0       3   \n1              2         1       1   \n2              3         1       3   \n3              4         1       1   \n4              5         0       3   \n..           ...       ...     ...   \n886          887         0       2   \n887          888         1       1   \n888          889         0       3   \n889          890         1       1   \n890          891         0       3   \n\n                                                  Name  Sex        Age  SibSp  \\\n0                              Braund, Mr. Owen Harris    0  22.000000      1   \n1    Cumings, Mrs. John Bradley (Florence Briggs Th...    1  38.000000      1   \n2                               Heikkinen, Miss. Laina    1  26.000000      0   \n3         Futrelle, Mrs. Jacques Heath (Lily May Peel)    1  35.000000      1   \n4                             Allen, Mr. William Henry    0  35.000000      0   \n..                                                 ...  ...        ...    ...   \n886                              Montvila, Rev. Juozas    0  27.000000      0   \n887                       Graham, Miss. Margaret Edith    1  19.000000      0   \n888           Johnston, Miss. Catherine Helen \"Carrie\"    1  29.699118      1   \n889                              Behr, Mr. Karl Howell    0  26.000000      0   \n890                                Dooley, Mr. Patrick    0  32.000000      0   \n\n     Parch            Ticket     Fare Cabin Embarked  FirstClass  SecondClass  \n0        0         A/5 21171   7.2500   NaN        S           0            0  \n1        0          PC 17599  71.2833   C85        C           1            0  \n2        0  STON/O2. 3101282   7.9250   NaN        S           0            0  \n3        0            113803  53.1000  C123        S           1            0  \n4        0            373450   8.0500   NaN        S           0            0  \n..     ...               ...      ...   ...      ...         ...          ...  \n886      0            211536  13.0000   NaN        S           0            1  \n887      0            112053  30.0000   B42        S           1            0  \n888      2        W./C. 6607  23.4500   NaN        S           0            0  \n889      0            111369  30.0000  C148        C           1            0  \n890      0            370376   7.7500   NaN        Q           0            0  \n\n[891 rows x 14 columns]\n"
    }
   ],
   "source": [
    "passengers['FirstClass'] = passengers['Pclass'].apply(lambda x: 1 if x ==1 else 0)\n",
    "passengers['SecondClass'] = passengers['Pclass'].apply(lambda x: 1 if x ==2 else 0)\n",
    "print(passengers)"
   ]
  },
  {
   "cell_type": "markdown",
   "metadata": {},
   "source": []
  }
 ],
 "metadata": {
  "language_info": {
   "codemirror_mode": {
    "name": "ipython",
    "version": 3
   },
   "file_extension": ".py",
   "mimetype": "text/x-python",
   "name": "python",
   "nbconvert_exporter": "python",
   "pygments_lexer": "ipython3",
   "version": "3.7.10-final"
  },
  "orig_nbformat": 2,
  "kernelspec": {
   "name": "python371064bitmyenvconda1da8a860bc054dcfb4058b2e550ba27d",
   "display_name": "Python 3.7.10 64-bit ('myenv': conda)"
  }
 },
 "nbformat": 4,
 "nbformat_minor": 2
}